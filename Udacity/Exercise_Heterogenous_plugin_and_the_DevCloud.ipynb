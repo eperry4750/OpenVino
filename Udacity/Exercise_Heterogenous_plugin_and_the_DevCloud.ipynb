{
 "cells": [
  {
   "cell_type": "markdown",
   "metadata": {
    "graffitiCellId": "id_qwukc5b"
   },
   "source": [
    "# Exercise: Heterogenous Plugin and the DevCloud\n",
    "\n",
    "Now that you've learned about the **Heterogenous plugin**, you will have the opportunity to load a model on all three hardware devices, CPU, GPU, and FPGA, using 3 device combinations and run inference on an image.\n",
    "\n",
    "In this exercise, you will do the following:\n",
    "1. Write a Python script to load a model and run inference 100 times on a device on Intel's DevCloud.\n",
    "    * Calculate the time it takes to load the model.\n",
    "    * Calculate the time it takes to run inference 100 times.\n",
    "2. Write a shell script to submit a job to Intel's DevCloud.\n",
    "3. Submit a job using `qsub` on an edge node using `HETERO`, run `liveQStat` to view the status of your submitted jobs, and then retrieve and view the results from your job.\n",
    "    * One job using `FPGA/CPU` as the device.\n",
    "    * One job using `GPU/CPU` as the device.\n",
    "    * One job using `FPGA/GPU/CPU` as the device.\n",
    "4. Plot and compare the results using bar graphs with `matplotlib` for the following metrics:\n",
    "    * Model Loading Time\n",
    "    * Inference Time\n",
    "    * Frames Per Second (FPS)\n",
    "\n",
    "Click the **Exercise Overview** button below for a demonstration."
   ]
  },
  {
   "cell_type": "markdown",
   "metadata": {
    "graffitiCellId": "id_z8bfs11"
   },
   "source": [
    "<span class=\"graffiti-highlight graffiti-id_z8bfs11-id_d97ox8f\"><i></i><button>Exercise Overview</button></span>"
   ]
  },
  {
   "cell_type": "markdown",
   "metadata": {
    "graffitiCellId": "id_0untint"
   },
   "source": [
    "#### IMPORTANT: Set up paths so we can run Dev Cloud utilities\n",
    "You *must* run this every time you enter a Workspace session."
   ]
  },
  {
   "cell_type": "code",
   "execution_count": 1,
   "metadata": {
    "graffitiCellId": "id_axn1sb2"
   },
   "outputs": [
    {
     "name": "stdout",
     "output_type": "stream",
     "text": [
      "env: PATH=/opt/conda/bin:/opt/spark-2.4.3-bin-hadoop2.7/bin:/opt/conda/bin:/usr/local/sbin:/usr/local/bin:/usr/sbin:/usr/bin:/sbin:/bin:/opt/intel_devcloud_support\n"
     ]
    }
   ],
   "source": [
    "%env PATH=/opt/conda/bin:/opt/spark-2.4.3-bin-hadoop2.7/bin:/opt/conda/bin:/usr/local/sbin:/usr/local/bin:/usr/sbin:/usr/bin:/sbin:/bin:/opt/intel_devcloud_support\n",
    "import os\n",
    "import sys\n",
    "sys.path.insert(0, os.path.abspath('/opt/intel_devcloud_support'))\n",
    "sys.path.insert(0, os.path.abspath('/opt/intel'))"
   ]
  },
  {
   "cell_type": "markdown",
   "metadata": {
    "graffitiCellId": "id_mhiayyz"
   },
   "source": [
    "## The Model\n",
    "\n",
    "We will be using the `vehicle-license-plate-detection-barrier-0106` model for this exercise.\n",
    "\n",
    "Remember to use the appropriate model precisions for each device:\n",
    "\n",
    "* FPGA - `FP16`\n",
    "* GPU - `FP16`\n",
    "* CPU - It is prefered to use `FP32`, but we have to use `FP16` since **GPU** and **FPGA** use `FP16`\n",
    "\n",
    "The model has already been downloaded for you in the `/data/models/intel` directory on Intel's DevCloud.\n",
    "\n",
    "We will be running inference on an image of a car. The path to the image is `/data/resources/car.png`."
   ]
  },
  {
   "cell_type": "markdown",
   "metadata": {
    "graffitiCellId": "id_ltf95ei"
   },
   "source": [
    "# Step 1: Creating a Python Script\n",
    "\n",
    "The first step is to create a Python script that you can use to load the model and perform inference. We'll use the `%%writefile` magic to create a Python file called `inference_on_device.py`. In the next cell, you will need to complete the `TODO` items for this Python script.\n",
    "\n",
    "`TODO` items:\n",
    "\n",
    "1. Load the model\n",
    "\n",
    "2. Get the name of the input node\n",
    "\n",
    "3. Prepare the model for inference (create an input dictionary)\n",
    "\n",
    "4. Run inference 100 times in a loop\n",
    "\n",
    "If you get stuck, you can click on the **Show Solution** button below for a walkthrough with the solution code."
   ]
  },
  {
   "cell_type": "code",
   "execution_count": 2,
   "metadata": {
    "graffitiCellId": "id_bpywo8s"
   },
   "outputs": [
    {
     "name": "stdout",
     "output_type": "stream",
     "text": [
      "Writing inference_on_device.py\n"
     ]
    }
   ],
   "source": [
    "%%writefile inference_on_device.py\n",
    "\n",
    "import time\n",
    "import cv2\n",
    "import numpy as np\n",
    "from openvino.inference_engine import IECore\n",
    "import argparse\n",
    "\n",
    "def main(args):\n",
    "    model=args.model_path\n",
    "    model_weights=model+'.bin'\n",
    "    model_structure=model+'.xml'\n",
    "    \n",
    "    start=time.time()\n",
    "    \n",
    "    core = IECore()\n",
    "    model=core.read_network(model=model_structure, weights=model_weights)\n",
    "    net = core.load_network(network=model, device_name=args.device, num_requests=1)\n",
    "    \n",
    "    load_time=time.time()-start\n",
    "    print(f\"Time taken to load model = {load_time} seconds\")\n",
    "    \n",
    "    # Get the name of the input node\n",
    "    input_name=next(iter(model.inputs))\n",
    "\n",
    "    # Reading and Preprocessing Image\n",
    "    input_img=cv2.imread('/data/resources/car.png')\n",
    "    input_img=cv2.resize(input_img, (300,300), interpolation = cv2.INTER_AREA)\n",
    "    input_img=np.moveaxis(input_img, -1, 0)\n",
    "\n",
    "    # Running Inference in a loop on the same image\n",
    "    input_dict={input_name:input_img}\n",
    "\n",
    "    start=time.time()\n",
    "    for _ in range(100):\n",
    "        net.infer(input_dict)\n",
    "    \n",
    "    inference_time=time.time()-start\n",
    "    fps=100/inference_time\n",
    "    \n",
    "    print(f\"Time Taken to run 100 Inference is = {inference_time} seconds\")\n",
    "    \n",
    "    with open(f\"/output/{args.path}.txt\", \"w\") as f:\n",
    "        f.write(str(load_time)+'\\n')\n",
    "        f.write(str(inference_time)+'\\n')\n",
    "        f.write(str(fps)+'\\n')\n",
    "\n",
    "if __name__=='__main__':\n",
    "    parser=argparse.ArgumentParser()\n",
    "    parser.add_argument('--model_path', required=True)\n",
    "    parser.add_argument('--device', default=None)\n",
    "    parser.add_argument('--path', default=None)\n",
    "    \n",
    "    args=parser.parse_args() \n",
    "    main(args)"
   ]
  },
  {
   "cell_type": "markdown",
   "metadata": {
    "graffitiCellId": "id_1rnmf5g"
   },
   "source": [
    "<span class=\"graffiti-highlight graffiti-id_1rnmf5g-id_nmeqj1a\"><i></i><button>Show Solution</button></span>"
   ]
  },
  {
   "cell_type": "markdown",
   "metadata": {
    "graffitiCellId": "id_ufbi2ll"
   },
   "source": [
    "## Step 2: Creating a Job Submission Script\n",
    "\n",
    "To submit a job to the DevCloud, you'll need to create a shell script. Similar to the Python script above, we'll use the `%%writefile` magic command to create a shell script called `inference_model_job.sh`. In the next cell, you will need to complete the `TODO` items for this shell script.\n",
    "\n",
    "`TODO` items:\n",
    "1. Create three variables:\n",
    "    * `DEVICE` - Assign the value as the first argument passed into the shell script.\n",
    "    * `MODELPATH` - Assign the value as the second argument passed into the shell script.\n",
    "    * `SAVEPATH` - Assign the value as the third argument passed into the shell script.\n",
    "2. Call the Python script using the three variable values as the command line argument\n",
    "\n",
    "If you get stuck, you can click on the **Show Solution** button below for a walkthrough with the solution code."
   ]
  },
  {
   "cell_type": "code",
   "execution_count": 3,
   "metadata": {
    "graffitiCellId": "id_5r13clu"
   },
   "outputs": [
    {
     "name": "stdout",
     "output_type": "stream",
     "text": [
      "Writing inference_model_job.sh\n"
     ]
    }
   ],
   "source": [
    "%%writefile inference_model_job.sh\n",
    "#!/bin/bash\n",
    "\n",
    "exec 1>/output/stdout.log 2>/output/stderr.log\n",
    "\n",
    "mkdir -p /output\n",
    "\n",
    "# TODO: Create DEVICE variable\n",
    "# TODO: Create MODELPATH variable\n",
    "# TODO: Create SAVEPATH variable\n",
    "DEVICE=$1\n",
    "MODELPATH=$2\n",
    "SAVEPATH=$3\n",
    "\n",
    "if echo \"$DEVICE\" | grep -q \"FPGA\"; then # if device passed in is FPGA, load bitstream to program FPGA\n",
    "    export AOCL_BOARD_PACKAGE_ROOT=/opt/intel/openvino/bitstreams/a10_vision_design_sg2_bitstreams/BSP/a10_1150_sg2\n",
    "    source /opt/altera/aocl-pro-rte/aclrte-linux64/init_opencl.sh\n",
    "    aocl program acl0 /opt/intel/openvino/bitstreams/a10_vision_design_sg2_bitstreams/2020-3_PL2_FP16_MobileNet_Clamp.aocx\n",
    "    export CL_CONTEXT_COMPILER_MODE_INTELFPGA=3\n",
    "fi\n",
    "\n",
    "# TODO: Call the Python script\n",
    "# Run the load model python script\n",
    "python3 inference_on_device.py  --model_path ${MODELPATH} --device ${DEVICE} --path ${SAVEPATH}\n",
    "\n",
    "cd /output\n",
    "\n",
    "tar zcvf output.tgz * # compresses all files in the current directory (output)"
   ]
  },
  {
   "cell_type": "markdown",
   "metadata": {
    "graffitiCellId": "id_f1nbmn9"
   },
   "source": [
    "<span class=\"graffiti-highlight graffiti-id_f1nbmn9-id_ia7yjlq\"><i></i><button>Show Solution</button></span>"
   ]
  },
  {
   "cell_type": "markdown",
   "metadata": {
    "graffitiCellId": "id_2wqvzne"
   },
   "source": [
    "## Step 3: Submitting a Job to Intel's DevCloud\n",
    "\n",
    "In the next three sub-steps, you will write your `!qsub` commands to submit your jobs to Intel's DevCloud to load your model and run inference on an edge node with an **Intel Core i5** CPU and an **Intel Arria 10 FPGA**. You will use the **HETERO** device plugin to run inference on three device combinations.\n",
    "\n",
    "Your `!qsub` command should take the following flags and arguments:\n",
    "1. The first argument should be the shell script filename\n",
    "2. `-d` flag - This argument should be `.`\n",
    "3. `-l` flag - This argument should request an edge node with the required hardware. The default quantity is 1, so the **1** after `nodes` is optional. \n",
    "    * **Intel Core i5 6500TE** for your `CPU`.\n",
    "    * **Intel HD Graphics 530** for your `IGPU`.\n",
    "    * **Intel Arria 10** for your `FPGA`.\n",
    "\n",
    "To get the queue labels for these devices, you can go to [this link](https://devcloud.intel.com/edge/get_started/devcloud/)\n",
    "\n",
    "4. `-F` flag - This argument should contain the three values to assign to the variables of the shell script:\n",
    "    * **DEVICE** - Device type for the job: You will have to use `HETERO` with three different combinations of `CPU`,`GPU` or `FPGA`.\n",
    "        - `FPGA,CPU`\n",
    "        - `GPU,CPU`\n",
    "        - `FPGA,GPU,CPU`\n",
    "    * **MODELPATH** - Full path to the model for the job. As a reminder, the model is located in `/data/models/intel`.\n",
    "    * **SAVEPATH** - Name of the file you want to save the performance metrics as. These should be named as the following:\n",
    "        - `fpga_cpu_stats` for the `FPGA/CPU` job\n",
    "        - `gpu_cpu_stats` for the `GPU/CPU` job\n",
    "        - `fpga_gpu_cpu_stats` for the `FPGA/GPU/CPU` job\n",
    "\n",
    "**Note**: There is an optional flag, `-N`, you may see in a few exercises. This is an argument that only works on Intel's DevCloud that allows you to name your job submission. This argument doesn't work in Udacity's workspace integration with Intel's DevCloud."
   ]
  },
  {
   "cell_type": "markdown",
   "metadata": {
    "graffitiCellId": "id_28fed2h"
   },
   "source": [
    "## Step 3a: Running on the FPGA and CPU\n",
    "\n",
    "In the cell below, write the qsub command that will submit your job to both the FPGA and CPU.\n",
    "\n",
    "If you get stuck, you can click on the **Show Solution** button below for a walkthrough with the solution code."
   ]
  },
  {
   "cell_type": "code",
   "execution_count": 4,
   "metadata": {
    "graffitiCellId": "id_6awpacu"
   },
   "outputs": [
    {
     "name": "stdout",
     "output_type": "stream",
     "text": [
      "MiOca26j7KlwjWIiqJCsvHenRlFzGQVs\n"
     ]
    }
   ],
   "source": [
    "# TODO: Write qsub command\n",
    "fpga_cpu_job = !qsub inference_model_job.sh -d . -l nodes=1:i5-6500te:iei-mustang-f100-a10 -F \"HETERO:FPGA,CPU /data/models/intel/vehicle-license-plate-detection-barrier-0106/FP16/vehicle-license-plate-detection-barrier-0106 fpga_cpu_stats\"\n",
    "print(fpga_cpu_job[0])"
   ]
  },
  {
   "cell_type": "markdown",
   "metadata": {
    "graffitiCellId": "id_cvp3lyi"
   },
   "source": [
    "<span class=\"graffiti-highlight graffiti-id_cvp3lyi-id_chmeh50\"><i></i><button>Hide Solution</button></span>"
   ]
  },
  {
   "cell_type": "code",
   "execution_count": 5,
   "metadata": {
    "graffitiCellId": "id_chmeh50"
   },
   "outputs": [
    {
     "name": "stdout",
     "output_type": "stream",
     "text": [
      "0IvyimPIGCZ8HaQWiIiCnwS5mAgz8Stc\n"
     ]
    }
   ],
   "source": [
    "fpga_cpu_job = !qsub inference_model_job.sh -d . -l nodes=1:i5-6500te:iei-mustang-f100-a10 -F \"HETERO:FPGA,CPU /data/models/intel/vehicle-license-plate-detection-barrier-0106/FP16/vehicle-license-plate-detection-barrier-0106 fpga_cpu_stats\"\n",
    "print(fpga_cpu_job[0])"
   ]
  },
  {
   "cell_type": "markdown",
   "metadata": {
    "graffitiCellId": "id_dfm31r5"
   },
   "source": [
    "### Check Job Status\n",
    "\n",
    "To check on the job that was submitted, use `liveQStat` to check the status of the job. The cell is locked until this finishes polling 10 times or you can interrupt the kernel to stop it by pressing the stop button at the top: ![stop button](assets/interrupt_kernel.png)\n",
    "\n",
    "Column `S` shows the state of your running jobs.\n",
    "\n",
    "For example:\n",
    "- If `JOB ID`is in Q state, it is in the queue waiting for available resources.\n",
    "- If `JOB ID` is in R state, it is running."
   ]
  },
  {
   "cell_type": "code",
   "execution_count": 6,
   "metadata": {
    "graffitiCellId": "id_0756ni1"
   },
   "outputs": [],
   "source": [
    "import liveQStat\n",
    "liveQStat.liveQStat()"
   ]
  },
  {
   "cell_type": "markdown",
   "metadata": {
    "graffitiCellId": "id_t7nm9be"
   },
   "source": [
    "###### Get Results\n",
    "\n",
    "Run the next cell to retrieve your job's results."
   ]
  },
  {
   "cell_type": "code",
   "execution_count": 7,
   "metadata": {
    "graffitiCellId": "id_zbykzwd"
   },
   "outputs": [
    {
     "name": "stdout",
     "output_type": "stream",
     "text": [
      "getResults() is blocking until results of the job (id:0IvyimPIGCZ8HaQWiIiCnwS5mAgz8Stc) are ready.\n",
      "Please wait...Success!\n",
      "output.tgz was downloaded in the same folder as this notebook.\n"
     ]
    }
   ],
   "source": [
    "import get_results\n",
    "\n",
    "get_results.getResults(fpga_cpu_job[0], filename=\"output.tgz\", blocking=True)"
   ]
  },
  {
   "cell_type": "markdown",
   "metadata": {
    "graffitiCellId": "id_e8klgeq"
   },
   "source": [
    "###### Unpack your output files and view stdout.log"
   ]
  },
  {
   "cell_type": "code",
   "execution_count": 8,
   "metadata": {
    "graffitiCellId": "id_3hp5mib"
   },
   "outputs": [],
   "source": [
    "!tar zxf output.tgz"
   ]
  },
  {
   "cell_type": "code",
   "execution_count": 9,
   "metadata": {
    "graffitiCellId": "id_c1lmzsp"
   },
   "outputs": [
    {
     "name": "stdout",
     "output_type": "stream",
     "text": [
      "INTELFPGAOCLSDKROOT is not set\r\n",
      "Using script's current directory (/opt/altera/aocl-pro-rte/aclrte-linux64)\r\n",
      "\r\n",
      "aoc was not found, but aocl was found. Assuming only RTE is installed.\r\n",
      "\r\n",
      "AOCL_BOARD_PACKAGE_ROOT is set to /opt/intel/openvino/bitstreams/a10_vision_design_sg2_bitstreams/BSP/a10_1150_sg2. Using that.\r\n",
      "Adding /opt/altera/aocl-pro-rte/aclrte-linux64/bin to PATH\r\n",
      "Adding /opt/altera/aocl-pro-rte/aclrte-linux64/linux64/lib to LD_LIBRARY_PATH\r\n",
      "Adding /opt/altera/aocl-pro-rte/aclrte-linux64/host/linux64/lib to LD_LIBRARY_PATH\r\n",
      "Adding /opt/intel/openvino/bitstreams/a10_vision_design_sg2_bitstreams/BSP/a10_1150_sg2/linux64/lib to LD_LIBRARY_PATH\r\n",
      "aocl program: Running program from /opt/intel/openvino/bitstreams/a10_vision_design_sg2_bitstreams/BSP/a10_1150_sg2/linux64/libexec\r\n",
      "Programming device: a10gx_2ddr : Intel Vision Accelerator Design with Intel Arria 10 FPGA (acla10_1150_sg20)\r\n",
      "Program succeed. \r\n",
      "Time taken to load model = 4.045556306838989 seconds\r\n",
      "Time Taken to run 100 Inference is = 0.763016939163208 seconds\r\n",
      "fpga_cpu_stats.txt\r\n",
      "stderr.log\r\n"
     ]
    }
   ],
   "source": [
    "!cat stdout.log"
   ]
  },
  {
   "cell_type": "markdown",
   "metadata": {
    "graffitiCellId": "id_0k0k9jp"
   },
   "source": [
    "###### View stderr.log\n",
    "This can be used for debugging"
   ]
  },
  {
   "cell_type": "code",
   "execution_count": 10,
   "metadata": {
    "graffitiCellId": "id_m33x45r"
   },
   "outputs": [],
   "source": [
    "!cat stderr.log"
   ]
  },
  {
   "cell_type": "markdown",
   "metadata": {
    "graffitiCellId": "id_io25c53"
   },
   "source": [
    "## Step 3b: Running on the GPU and CPU\n",
    "\n",
    "In the cell below, write the qsub command that will submit your job to both the GPU and CPU.\n",
    "\n",
    "If you get stuck, you can click on the **Show Solution** button below for a walkthrough with the solution code."
   ]
  },
  {
   "cell_type": "code",
   "execution_count": 11,
   "metadata": {
    "graffitiCellId": "id_v5klpi1"
   },
   "outputs": [
    {
     "name": "stdout",
     "output_type": "stream",
     "text": [
      "VyFAiKzpn90rJGSOZ6Phw3bgUET2B6Hs\n"
     ]
    }
   ],
   "source": [
    "# TODO: Write qsub command\n",
    "gpu_cpu_job = !qsub inference_model_job.sh -d . -l nodes=1:i5-6500te:intel-hd-530 -F \"HETERO:GPU,CPU /data/models/intel/vehicle-license-plate-detection-barrier-0106/FP16/vehicle-license-plate-detection-barrier-0106 gpu_cpu_stats\"\n",
    "print(gpu_cpu_job[0])"
   ]
  },
  {
   "cell_type": "markdown",
   "metadata": {
    "graffitiCellId": "id_7k34s6u"
   },
   "source": [
    "<span class=\"graffiti-highlight graffiti-id_7k34s6u-id_022l4bj\"><i></i><button>Show Solution</button></span>"
   ]
  },
  {
   "cell_type": "markdown",
   "metadata": {
    "graffitiCellId": "id_dfm31r5"
   },
   "source": [
    "### Check Job Status\n",
    "\n",
    "To check on the job that was submitted, use `liveQStat` to check the status of the job. The cell is locked until this finishes polling 10 times or you can interrupt the kernel to stop it by pressing the stop button at the top: ![stop button](assets/interrupt_kernel.png)\n",
    "\n",
    "Column `S` shows the state of your running jobs.\n",
    "\n",
    "For example:\n",
    "- If `JOB ID`is in Q state, it is in the queue waiting for available resources.\n",
    "- If `JOB ID` is in R state, it is running."
   ]
  },
  {
   "cell_type": "code",
   "execution_count": 12,
   "metadata": {
    "graffitiCellId": "id_0756ni1"
   },
   "outputs": [],
   "source": [
    "import liveQStat\n",
    "liveQStat.liveQStat()"
   ]
  },
  {
   "cell_type": "markdown",
   "metadata": {
    "graffitiCellId": "id_t7nm9be"
   },
   "source": [
    "###### Get Results\n",
    "\n",
    "Run the next cell to retrieve your job's results."
   ]
  },
  {
   "cell_type": "code",
   "execution_count": 13,
   "metadata": {
    "graffitiCellId": "id_zbykzwd"
   },
   "outputs": [
    {
     "name": "stdout",
     "output_type": "stream",
     "text": [
      "getResults() is blocking until results of the job (id:VyFAiKzpn90rJGSOZ6Phw3bgUET2B6Hs) are ready.\n",
      "Please wait...Success!\n",
      "output.tgz was downloaded in the same folder as this notebook.\n"
     ]
    }
   ],
   "source": [
    "import get_results\n",
    "\n",
    "get_results.getResults(gpu_cpu_job[0], filename=\"output.tgz\", blocking=True)"
   ]
  },
  {
   "cell_type": "markdown",
   "metadata": {
    "graffitiCellId": "id_e8klgeq"
   },
   "source": [
    "###### Unpack your output files and view stdout.log"
   ]
  },
  {
   "cell_type": "code",
   "execution_count": 14,
   "metadata": {
    "graffitiCellId": "id_3hp5mib"
   },
   "outputs": [],
   "source": [
    "!tar zxf output.tgz"
   ]
  },
  {
   "cell_type": "code",
   "execution_count": 15,
   "metadata": {
    "graffitiCellId": "id_c1lmzsp"
   },
   "outputs": [
    {
     "name": "stdout",
     "output_type": "stream",
     "text": [
      "DetectionOutput_Reshape_conf_ is CPU\r\n",
      "DetectionOutput_Reshape_conf_/Cast_119121_const is CPU\r\n",
      "DetectionOutput_Reshape_loc_ is CPU\r\n",
      "DetectionOutput_Reshape_loc_/Cast_119127_const is CPU\r\n",
      "DetectionOutput_Reshape_priors_/Output_0/Data__const is CPU\r\n",
      "SSD/concat_reshape_softmax/mbox_conf_final is CPU\r\n",
      "SSD/concat_reshape_softmax/Reshape is GPU\r\n",
      "SSD/concat_reshape_softmax/mbox_conf_logits is GPU\r\n",
      "SSD/ssd_head_1/Flatten_1/flatten/Reshape is GPU\r\n",
      "SSD/ssd_head_1/layer_18/output_mbox_conf/BiasAdd/Add/Transpose is GPU\r\n",
      "SSD/concat_reshape_softmax/mbox_loc_final is CPU\r\n",
      "SSD/ssd_head_1/Flatten/flatten/Reshape is GPU\r\n",
      "SSD/ssd_head_1/layer_18/output_mbox_loc/BiasAdd/Add/Transpose is GPU\r\n",
      "SSD/ssd_head_2/Flatten_1/flatten/Reshape is GPU\r\n",
      "SSD/ssd_head_2/feature_map_1_mbox_conf/BiasAdd/Add/Transpose is GPU\r\n",
      "SSD/ssd_head_2/Flatten/flatten/Reshape is GPU\r\n",
      "SSD/ssd_head_2/feature_map_1_mbox_loc/BiasAdd/Add/Transpose is GPU\r\n",
      "SSD/ssd_head_3/Flatten_1/flatten/Reshape is GPU\r\n",
      "SSD/ssd_head_3/feature_map_2_mbox_conf/BiasAdd/Add/Transpose is GPU\r\n",
      "SSD/ssd_head_3/Flatten/flatten/Reshape is GPU\r\n",
      "SSD/ssd_head_3/feature_map_2_mbox_loc/BiasAdd/Add/Transpose is GPU\r\n",
      "SSD/ssd_head_4/Flatten_1/flatten/Reshape is GPU\r\n",
      "SSD/ssd_head_4/feature_map_3_mbox_conf/BiasAdd/Add/Transpose is GPU\r\n",
      "SSD/ssd_head_4/Flatten/flatten/Reshape is GPU\r\n",
      "SSD/ssd_head_4/feature_map_3_mbox_loc/BiasAdd/Add/Transpose is GPU\r\n",
      "SSD/ssd_head_5/Flatten_1/flatten/Reshape is GPU\r\n",
      "SSD/ssd_head_5/feature_map_4_mbox_conf/BiasAdd/Add/Transpose is GPU\r\n",
      "SSD/ssd_head_5/Flatten/flatten/Reshape is GPU\r\n",
      "SSD/ssd_head_5/feature_map_4_mbox_loc/BiasAdd/Add/Transpose is GPU\r\n",
      "SSD/ssd_head/Flatten_1/flatten/Reshape is GPU\r\n",
      "SSD/ssd_head/layer_14/output_mbox_conf/BiasAdd/Add/Transpose is GPU\r\n",
      "SSD/ssd_head/Flatten/flatten/Reshape is GPU\r\n",
      "SSD/ssd_head/layer_14/output_mbox_loc/BiasAdd/Add/Transpose is GPU\r\n",
      "SSD/concat_reshape_softmax/Reshape/Cast_119117_const is GPU\r\n",
      "SSD/concat_reshape_softmax/mbox_conf_final/Cast_119077_const is CPU\r\n",
      "SSD/concat_reshape_softmax/mbox_conf_logits/Cast_119093_const is GPU\r\n",
      "SSD/concat_reshape_softmax/mbox_loc_final/Cast_119087_const is CPU\r\n",
      "SSD/ssd_head/Flatten/flatten/Reshape/Cast_119105_const is GPU\r\n",
      "SSD/ssd_head/Flatten_1/flatten/Reshape/Cast_119091_const is GPU\r\n",
      "SSD/ssd_head_1/Flatten/flatten/Reshape/Cast_119103_const is GPU\r\n",
      "SSD/ssd_head_1/Flatten_1/flatten/Reshape/Cast_119119_const is GPU\r\n",
      "SSD/ssd_head_2/Flatten/flatten/Reshape/Cast_119089_const is GPU\r\n",
      "SSD/ssd_head_2/Flatten_1/flatten/Reshape/Cast_119095_const is GPU\r\n",
      "SSD/ssd_head_3/Flatten/flatten/Reshape/Cast_119069_const is GPU\r\n",
      "SSD/ssd_head_3/Flatten_1/flatten/Reshape/Cast_119081_const is GPU\r\n",
      "SSD/ssd_head_4/Flatten/flatten/Reshape/Cast_119125_const is GPU\r\n",
      "SSD/ssd_head_4/Flatten_1/flatten/Reshape/Cast_119075_const is GPU\r\n",
      "SSD/ssd_head_5/Flatten/flatten/Reshape/Cast_119123_const is GPU\r\n",
      "SSD/ssd_head_5/Flatten_1/flatten/Reshape/Cast_119109_const is GPU\r\n",
      "Time taken to load model = 41.18634366989136 seconds\r\n",
      "Time Taken to run 100 Inference is = 0.5950756072998047 seconds\r\n",
      "gpu_cpu_stats.txt\r\n",
      "stderr.log\r\n"
     ]
    }
   ],
   "source": [
    "!cat stdout.log"
   ]
  },
  {
   "cell_type": "markdown",
   "metadata": {
    "graffitiCellId": "id_0k0k9jp"
   },
   "source": [
    "###### View stderr.log\n",
    "This can be used for debugging"
   ]
  },
  {
   "cell_type": "code",
   "execution_count": 16,
   "metadata": {
    "graffitiCellId": "id_m33x45r"
   },
   "outputs": [],
   "source": [
    "!cat stderr.log"
   ]
  },
  {
   "cell_type": "markdown",
   "metadata": {
    "graffitiCellId": "id_io25c53"
   },
   "source": [
    "## Step 3c: Running on the FPGA, GPU, and CPU\n",
    "\n",
    "In the cell below, write the qsub command that will submit your job to all three devices, FPGA, GPU, and CPU.\n",
    "\n",
    "If you get stuck, you can click on the **Show Solution** button below for a walkthrough with the solution code."
   ]
  },
  {
   "cell_type": "code",
   "execution_count": 17,
   "metadata": {
    "graffitiCellId": "id_v5klpi1"
   },
   "outputs": [
    {
     "name": "stdout",
     "output_type": "stream",
     "text": [
      "t3EhCtawbxITHabMVDnjEW6ab8h8jSNv\n"
     ]
    }
   ],
   "source": [
    "# TODO: Write qsub command\n",
    "fpga_gpu_cpu_job = !qsub inference_model_job.sh -d . -l nodes=1:i5-6500te:intel-hd-530:iei-mustang-f100-a10 -F \"HETERO:FPGA,GPU,CPU /data/models/intel/vehicle-license-plate-detection-barrier-0106/FP16/vehicle-license-plate-detection-barrier-0106 fpga_gpu_cpu_stats\"\n",
    "print(fpga_gpu_cpu_job[0])"
   ]
  },
  {
   "cell_type": "markdown",
   "metadata": {
    "graffitiCellId": "id_mxh5ozv"
   },
   "source": [
    "<span class=\"graffiti-highlight graffiti-id_mxh5ozv-id_qicoukm\"><i></i><button>Show Solution</button></span>"
   ]
  },
  {
   "cell_type": "markdown",
   "metadata": {
    "graffitiCellId": "id_dfm31r5"
   },
   "source": [
    "### Check Job Status\n",
    "\n",
    "To check on the job that was submitted, use `liveQStat` to check the status of the job. The cell is locked until this finishes polling 10 times or you can interrupt the kernel to stop it by pressing the stop button at the top: ![stop button](assets/interrupt_kernel.png)\n",
    "\n",
    "Column `S` shows the state of your running jobs.\n",
    "\n",
    "For example:\n",
    "- If `JOB ID`is in Q state, it is in the queue waiting for available resources.\n",
    "- If `JOB ID` is in R state, it is running."
   ]
  },
  {
   "cell_type": "code",
   "execution_count": 18,
   "metadata": {
    "graffitiCellId": "id_0756ni1"
   },
   "outputs": [],
   "source": [
    "import liveQStat\n",
    "liveQStat.liveQStat()"
   ]
  },
  {
   "cell_type": "markdown",
   "metadata": {
    "graffitiCellId": "id_t7nm9be"
   },
   "source": [
    "###### Get Results\n",
    "\n",
    "Run the next cell to retrieve your job's results."
   ]
  },
  {
   "cell_type": "code",
   "execution_count": 19,
   "metadata": {
    "graffitiCellId": "id_zbykzwd"
   },
   "outputs": [
    {
     "name": "stdout",
     "output_type": "stream",
     "text": [
      "getResults() is blocking until results of the job (id:t3EhCtawbxITHabMVDnjEW6ab8h8jSNv) are ready.\n",
      "Please wait...Success!\n",
      "output.tgz was downloaded in the same folder as this notebook.\n"
     ]
    }
   ],
   "source": [
    "import get_results\n",
    "\n",
    "get_results.getResults(fpga_gpu_cpu_job[0], filename=\"output.tgz\", blocking=True)"
   ]
  },
  {
   "cell_type": "markdown",
   "metadata": {
    "graffitiCellId": "id_e8klgeq"
   },
   "source": [
    "###### Unpack your output files and view stdout.log"
   ]
  },
  {
   "cell_type": "code",
   "execution_count": 20,
   "metadata": {
    "graffitiCellId": "id_3hp5mib"
   },
   "outputs": [],
   "source": [
    "!tar zxf output.tgz"
   ]
  },
  {
   "cell_type": "code",
   "execution_count": 21,
   "metadata": {
    "graffitiCellId": "id_c1lmzsp"
   },
   "outputs": [
    {
     "name": "stdout",
     "output_type": "stream",
     "text": [
      "INTELFPGAOCLSDKROOT is not set\r\n",
      "Using script's current directory (/opt/altera/aocl-pro-rte/aclrte-linux64)\r\n",
      "\r\n",
      "aoc was not found, but aocl was found. Assuming only RTE is installed.\r\n",
      "\r\n",
      "AOCL_BOARD_PACKAGE_ROOT is set to /opt/intel/openvino/bitstreams/a10_vision_design_sg2_bitstreams/BSP/a10_1150_sg2. Using that.\r\n",
      "Adding /opt/altera/aocl-pro-rte/aclrte-linux64/bin to PATH\r\n",
      "Adding /opt/altera/aocl-pro-rte/aclrte-linux64/linux64/lib to LD_LIBRARY_PATH\r\n",
      "Adding /opt/altera/aocl-pro-rte/aclrte-linux64/host/linux64/lib to LD_LIBRARY_PATH\r\n",
      "Adding /opt/intel/openvino/bitstreams/a10_vision_design_sg2_bitstreams/BSP/a10_1150_sg2/linux64/lib to LD_LIBRARY_PATH\r\n",
      "aocl program: Running program from /opt/intel/openvino/bitstreams/a10_vision_design_sg2_bitstreams/BSP/a10_1150_sg2/linux64/libexec\r\n",
      "Programming device: a10gx_2ddr : Intel Vision Accelerator Design with Intel Arria 10 FPGA (acla10_1150_sg20)\r\n",
      "Program succeed. \r\n",
      "DetectionOutput_Reshape_conf_ is CPU\r\n",
      "DetectionOutput_Reshape_conf_/Cast_119121_const is CPU\r\n",
      "DetectionOutput_Reshape_loc_ is CPU\r\n",
      "DetectionOutput_Reshape_loc_/Cast_119127_const is CPU\r\n",
      "DetectionOutput_Reshape_priors_/Output_0/Data__const is CPU\r\n",
      "SSD/concat_reshape_softmax/mbox_conf_final is CPU\r\n",
      "SSD/concat_reshape_softmax/Reshape is GPU\r\n",
      "SSD/concat_reshape_softmax/mbox_conf_logits is GPU\r\n",
      "SSD/ssd_head_1/Flatten_1/flatten/Reshape is GPU\r\n",
      "SSD/ssd_head_1/layer_18/output_mbox_conf/BiasAdd/Add/Transpose is GPU\r\n",
      "SSD/concat_reshape_softmax/mbox_loc_final is CPU\r\n",
      "SSD/ssd_head_1/Flatten/flatten/Reshape is GPU\r\n",
      "SSD/ssd_head_1/layer_18/output_mbox_loc/BiasAdd/Add/Transpose is GPU\r\n",
      "SSD/ssd_head_2/Flatten_1/flatten/Reshape is GPU\r\n",
      "SSD/ssd_head_2/feature_map_1_mbox_conf/BiasAdd/Add/Transpose is GPU\r\n",
      "SSD/ssd_head_2/Flatten/flatten/Reshape is GPU\r\n",
      "SSD/ssd_head_2/feature_map_1_mbox_loc/BiasAdd/Add/Transpose is GPU\r\n",
      "SSD/ssd_head_3/Flatten_1/flatten/Reshape is GPU\r\n",
      "SSD/ssd_head_3/feature_map_2_mbox_conf/BiasAdd/Add/Transpose is GPU\r\n",
      "SSD/ssd_head_3/Flatten/flatten/Reshape is GPU\r\n",
      "SSD/ssd_head_3/feature_map_2_mbox_loc/BiasAdd/Add/Transpose is GPU\r\n",
      "SSD/ssd_head_4/Flatten_1/flatten/Reshape is GPU\r\n",
      "SSD/ssd_head_4/feature_map_3_mbox_conf/BiasAdd/Add/Transpose is GPU\r\n",
      "SSD/ssd_head_4/Flatten/flatten/Reshape is GPU\r\n",
      "SSD/ssd_head_4/feature_map_3_mbox_loc/BiasAdd/Add/Transpose is GPU\r\n",
      "SSD/ssd_head_5/Flatten_1/flatten/Reshape is GPU\r\n",
      "SSD/ssd_head_5/feature_map_4_mbox_conf/BiasAdd/Add/Transpose is GPU\r\n",
      "SSD/ssd_head_5/Flatten/flatten/Reshape is GPU\r\n",
      "SSD/ssd_head_5/feature_map_4_mbox_loc/BiasAdd/Add/Transpose is GPU\r\n",
      "SSD/ssd_head/Flatten_1/flatten/Reshape is GPU\r\n",
      "SSD/ssd_head/layer_14/output_mbox_conf/BiasAdd/Add/Transpose is GPU\r\n",
      "SSD/ssd_head/Flatten/flatten/Reshape is GPU\r\n",
      "SSD/ssd_head/layer_14/output_mbox_loc/BiasAdd/Add/Transpose is GPU\r\n",
      "SSD/concat_reshape_softmax/Reshape/Cast_119117_const is GPU\r\n",
      "SSD/concat_reshape_softmax/mbox_conf_final/Cast_119077_const is CPU\r\n",
      "SSD/concat_reshape_softmax/mbox_conf_logits/Cast_119093_const is GPU\r\n",
      "SSD/concat_reshape_softmax/mbox_loc_final/Cast_119087_const is CPU\r\n",
      "SSD/ssd_head/Flatten/flatten/Reshape/Cast_119105_const is GPU\r\n",
      "SSD/ssd_head/Flatten_1/flatten/Reshape/Cast_119091_const is GPU\r\n",
      "SSD/ssd_head_1/Flatten/flatten/Reshape/Cast_119103_const is GPU\r\n",
      "SSD/ssd_head_1/Flatten_1/flatten/Reshape/Cast_119119_const is GPU\r\n",
      "SSD/ssd_head_2/Flatten/flatten/Reshape/Cast_119089_const is GPU\r\n",
      "SSD/ssd_head_2/Flatten_1/flatten/Reshape/Cast_119095_const is GPU\r\n",
      "SSD/ssd_head_3/Flatten/flatten/Reshape/Cast_119069_const is GPU\r\n",
      "SSD/ssd_head_3/Flatten_1/flatten/Reshape/Cast_119081_const is GPU\r\n",
      "SSD/ssd_head_4/Flatten/flatten/Reshape/Cast_119125_const is GPU\r\n",
      "SSD/ssd_head_4/Flatten_1/flatten/Reshape/Cast_119075_const is GPU\r\n",
      "SSD/ssd_head_5/Flatten/flatten/Reshape/Cast_119123_const is GPU\r\n",
      "SSD/ssd_head_5/Flatten_1/flatten/Reshape/Cast_119109_const is GPU\r\n",
      "Time taken to load model = 11.18982458114624 seconds\r\n",
      "Time Taken to run 100 Inference is = 1.033616065979004 seconds\r\n",
      "fpga_gpu_cpu_stats.txt\r\n",
      "stderr.log\r\n"
     ]
    }
   ],
   "source": [
    "!cat stdout.log"
   ]
  },
  {
   "cell_type": "markdown",
   "metadata": {
    "graffitiCellId": "id_0k0k9jp"
   },
   "source": [
    "###### View stderr.log\n",
    "This can be used for debugging"
   ]
  },
  {
   "cell_type": "code",
   "execution_count": 22,
   "metadata": {
    "graffitiCellId": "id_m33x45r"
   },
   "outputs": [],
   "source": [
    "!cat stderr.log"
   ]
  },
  {
   "cell_type": "markdown",
   "metadata": {
    "graffitiCellId": "id_4rf323l"
   },
   "source": [
    "## Step 4: Plot and Compare Results\n",
    "\n",
    "Run the cells below to plot and compare the results."
   ]
  },
  {
   "cell_type": "code",
   "execution_count": 23,
   "metadata": {
    "graffitiCellId": "id_bkny5ta"
   },
   "outputs": [],
   "source": [
    "import matplotlib.pyplot as plt"
   ]
  },
  {
   "cell_type": "code",
   "execution_count": 24,
   "metadata": {
    "graffitiCellId": "id_njkbzfn"
   },
   "outputs": [
    {
     "data": {
      "image/png": "[encoded data removed]",
      "text/plain": [
       "<matplotlib.figure.Figure at 0x7f18b67048d0>"
      ]
     },
     "metadata": {
      "needs_background": "light"
     },
     "output_type": "display_data"
    },
    {
     "data": {
      "image/png": "[encoded data removed]",
      "text/plain": [
       "<matplotlib.figure.Figure at 0x7f18b46af358>"
      ]
     },
     "metadata": {
      "needs_background": "light"
     },
     "output_type": "display_data"
    },
    {
     "data": {
      "image/png": "[encoded data removed]",
      "text/plain": [
       "<matplotlib.figure.Figure at 0x7f18b46889b0>"
      ]
     },
     "metadata": {
      "needs_background": "light"
     },
     "output_type": "display_data"
    }
   ],
   "source": [
    "def plot(labels, data, title, label):\n",
    "    fig = plt.figure()\n",
    "    ax = fig.add_axes([0,0,1,1])\n",
    "    ax.set_ylabel(label)\n",
    "    ax.set_title(title)\n",
    "    ax.bar(labels, data)\n",
    "    \n",
    "def read_files(paths, labels):\n",
    "    load_time=[]\n",
    "    inference_time=[]\n",
    "    fps=[]\n",
    "    \n",
    "    for path in paths:\n",
    "        if os.path.isfile(path):\n",
    "            f=open(path, 'r')\n",
    "            load_time.append(float(f.readline()))\n",
    "            inference_time.append(float(f.readline()))\n",
    "            fps.append(float(f.readline()))\n",
    "\n",
    "    plot(labels, load_time, 'Model Load Time', 'seconds')\n",
    "    plot(labels, inference_time, 'Inference Time', 'seconds')\n",
    "    plot(labels, fps, 'Frames per Second', 'Frames')\n",
    "\n",
    "paths=['fpga_cpu_stats.txt', 'gpu_cpu_stats.txt', 'fpga_gpu_cpu_stats.txt']\n",
    "read_files(paths, ['FPGA/CPU', 'GPU/CPU', 'FPGA/GPU/CPU'])"
   ]
  }
 ],
 "metadata": {
  "graffiti": {
   "firstAuthorId": "dca260a8-2142-11ea-b0f7-6f7abbbf2f85",
   "id": "id_610hfgn",
   "language": "EN"
  },
  "kernelspec": {
   "display_name": "Python 3",
   "language": "python",
   "name": "python3"
  },
  "language_info": {
   "codemirror_mode": {
    "name": "ipython",
    "version": 3
   },
   "file_extension": ".py",
   "mimetype": "text/x-python",
   "name": "python",
   "nbconvert_exporter": "python",
   "pygments_lexer": "ipython3",
   "version": "3.6.3"
  }
 },
 "nbformat": 4,
 "nbformat_minor": 2
}
