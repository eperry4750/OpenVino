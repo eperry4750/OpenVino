{
 "cells": [
  {
   "cell_type": "markdown",
   "metadata": {},
   "source": [
    "# Exercise 3: Multiple Requests and Callbacks\n",
    "\n",
    "In this exercise, you will implement inference with multiple requests using callbacks. \n",
    "\n",
    "The workload will be once again vehicle detection, but on a video this time. \n",
    "Specifically, your application will count the cars in the frame and report three metrics: maximum number of cars in one frame, minimum number of cars in one frame, and average number of cars in all frames.\n",
    "Run the following cell to see the video."
   ]
  },
  {
   "cell_type": "code",
   "execution_count": 1,
   "metadata": {},
   "outputs": [
    {
     "data": {
      "text/html": [
       "<video alt=\"\" controls autoplay height=\"480\"><source src=\"cars_1900.mp4\" type=\"video/mp4\" /></video>"
      ],
      "text/plain": [
       "<IPython.core.display.HTML object>"
      ]
     },
     "execution_count": 1,
     "metadata": {},
     "output_type": "execute_result"
    }
   ],
   "source": [
    "from IPython.core.display import HTML\n",
    "HTML(\"<video alt=\\\"\\\" controls autoplay height=\\\"480\\\"><source src=\\\"cars_1900.mp4\\\" type=\\\"video/mp4\\\" /></video>\")"
   ]
  },
  {
   "cell_type": "markdown",
   "metadata": {},
   "source": [
    "### Important! The quiz will ask you the average number of vehicles detected in the last step.\n",
    "\n",
    "\n",
    "## Implementation\n",
    "\n",
    "The video course covered some potential implementations using the `wait()` function, including the zero timeout wait.\n",
    "While the zero timeout example in the video works well, it goes through all the requests over and over again until one of them is done.\n",
    "In this exercise, you will implement multiple inference that simply waits for the first finished slot using Python queues and inference callbacks\n",
    "\n",
    "Python queues have a couple of interesting features that make them work well with the multiple request inference workload.\n",
    "One is that Python queues are thread-safe. \n",
    "Without going in to too much detail, this means that the queue is safe to use in an asynchronous setting, like our requests.\n",
    "The second feature is the get() function (like a \"pop\" function). If the queue is empty when get() is called, it will wait until an item becomes available. We will begin with an optional section for those who are unfamiliar or need a review of Python Queue.\n",
    "\n",
    "## (Optional) Step 1: Python queue\n",
    "\n",
    "This section is designed to give you a brief introduction to Python queue. \n",
    "If you are already familiar, skip to step 2.\n",
    "\n",
    "Python queues are data structures that are accessed in First In First Out (FIFO) order.\n",
    "When used in an asynchronous workload, this can be used to access the jobs as they complete.\n",
    "\n",
    "The following is a brief example of using queue in an asynchronous setting.\n",
    "This example uses threading instead of inference engine, to keep the example simple.\n",
    "Each thread sleeps for some time, and then puts a tuple containing the id of the thread and how long it slept for.\n",
    "The main thread will wait on the queue, and print out the contents of the tuple."
   ]
  },
  {
   "cell_type": "code",
   "execution_count": 2,
   "metadata": {},
   "outputs": [
    {
     "name": "stdout",
     "output_type": "stream",
     "text": [
      "task 2 completed after sleeping for 1 second(s)\n",
      "task 1 completed after sleeping for 3 second(s)\n"
     ]
    }
   ],
   "source": [
    "import queue\n",
    "import threading\n",
    "import time\n",
    "\n",
    "# Sample asynchronous workload that simply sleeps, and then places ID in queue\n",
    "def foo(q, myid, timeout):\n",
    "    time.sleep(timeout)\n",
    "    q.put((myid, timeout))\n",
    "\n",
    "# Creating the queue for completed tasks\n",
    "completion_queue = queue.Queue()\n",
    "\n",
    "# Create and start two tasks\n",
    "t1 = threading.Thread(target=foo, args=(completion_queue, 1, 3))\n",
    "t2 = threading.Thread(target=foo, args=(completion_queue, 2, 1))\n",
    "t1.start()\n",
    "t2.start()\n",
    "\n",
    "# Print tasks as they complete\n",
    "completed_id, timeout = completion_queue.get()\n",
    "print(\"task {} completed after sleeping for {} second(s)\".format(completed_id, timeout))\n",
    "completed_id, timeout = completion_queue.get()\n",
    "print(\"task {} completed after sleeping for {} second(s)\".format(completed_id, timeout))\n",
    "\n",
    "\n",
    "# Confirming the threads are completed. Not necessary, but good practice.\n",
    "t1.join()\n",
    "t2.join()"
   ]
  },
  {
   "cell_type": "markdown",
   "metadata": {},
   "source": [
    "Notice that task 2 had a shorter timeout and completed first. It was printed immediately without waiting for task 1 to complete. Additionally, notice that I did not have to specify any ID in the `get()` function. We will adapt this for inference engine."
   ]
  },
  {
   "cell_type": "markdown",
   "metadata": {},
   "source": [
    "## Step 2: Inference Server mock-up\n",
    "\n",
    "Now we will create a mock-up model of an inference server that can run multiple requests at once.\n",
    "In exercise-2 we had multiple concurrent requests by starting a number of them and then waiting for all to complete.\n",
    "However as we discussed in the video, this can be inefficient because some inferences may finish before others.\n",
    "This is especially true if you are using multiple types of devices.\n",
    "\n",
    "So to get around this issue, we will set up this server to start inference in a request slot as soon as it is available.\n",
    "To do this, the server will keep a Python queue that has *available request slots*.\n",
    "More specifically, each item in the queue contains the ID of the available request slot.\n",
    "In addition, we will also add the status code of the inference so that the server will know if any request was unsuccessful.\n",
    "\n",
    "The queue will be populated using the callback function for the request slot. To recap, this is the function that gets called as soon as inference is completed on the request slot. So, we will use this callback functionality to add the ID and the status (as a tuple) of the newly completed request slot.\n",
    "\n",
    "### utils.py\n",
    "\n",
    "Begin by writing various helper functions for use in the main loop.\n",
    "Complete the `utils.py` file by following the instructions.\n",
    "\n",
    "</br><details>\n",
    "    <summary><b>(2.1)</b> Complete the <code>prepImage()</code> function by finding the NCHW values from the network.</summary>\n",
    "    \n",
    "Complete the `prepImage()` function by getting the values for `n`, `c`, `h` and `w` from the function input `net`.\n",
    "The code here should be the exact same as in exercise 1.\n",
    "\n",
    "</details><br/>\n",
    "\n",
    "<details>\n",
    "    <summary><b>(2.2)</b> Complete the <code>createExecNetwork()</code> function which takes IECore, IENetwork and device string and returns an ExecutableNetwork with the optimal number of requests.</summary>\n",
    "\n",
    "To get the optimal number of requests, you first need a default ExecutableNetwork object.\n",
    "The IENetwork and device string is provided as input argument.\n",
    "Use these along with IECore to get an ExecutableNetwork.\n",
    "\n",
    "Then you can get the optimal number of requests from a metric of the ExecutableNetwork. \n",
    "See the slides for video 2 of course 2 for more details.\n",
    "Use this value to recreate an ExecutablkeNetwork object with the optimal number of requests.\n",
    "Finally, return this executable network.\n",
    "\n",
    "</details><br/>\n",
    "\n",
    "<details>\n",
    "    <summary><b>(2.3)</b> In <code>setCallbackAndQueue()</code> function, add a callback function called <code>callbackFunc</code> to each of the request slots. </summary>\n",
    "    \n",
    "We will be defining `callbackFunc` function in step (2.4), but we will work on the part where this callback is added to the request slot.\n",
    "\n",
    "For our callback function, we need two pieces of information: the ID of the request slot, and the status of the inference.\n",
    "Additionally, we need access to the queue that keeps track of the completed slots.\n",
    "The status is automatically made available to the callback function, but the request slot ID as well as access to the queue is not.\n",
    "So we need to pass these to the function.\n",
    "\n",
    "To do this, we need to use the `py_data` variable. \n",
    "This dictionary variable is set when you add the callback, and is passed in as an argument to the callback function.\n",
    "For what we need in our callback function, `py_data` must contain the ID of the request slot and the queue.\n",
    "\n",
    "So first create a dictionary that contains these two. \n",
    "The key to use for this dictionary is up to you. \n",
    "Then call the  `set_completion_callback()` method for the requests to add the `callbackFunc` (note the lack of parethesis) along with the `py_data`. \n",
    "</details><br/>\n",
    "\n",
    "<details>\n",
    "    <summary><b>(2.4)</b> Complete <code>callbackFunc()</code> function, by having it add a tuple containing the request slot ID and the status code for the inference.</summary> \n",
    "\n",
    "Remember that `py_data` argument is the dictionary you passed in in the previous step.\n",
    "It should contain the queue and the request ID.\n",
    "The status of the inference is in the input argument `status`.\n",
    "Add the tuple (ID, status) to the queue. Note that the order there matters.\n",
    "\n",
    "</details><br/>"
   ]
  },
  {
   "cell_type": "code",
   "execution_count": 3,
   "metadata": {},
   "outputs": [
    {
     "name": "stdout",
     "output_type": "stream",
     "text": [
      "Overwriting utils.py\n"
     ]
    }
   ],
   "source": [
    "%%writefile utils.py\n",
    "import cv2\n",
    "from openvino.inference_engine import IECore, IENetwork\n",
    "\n",
    "# Prepares image for inference by reshaping and transposing.\n",
    "# inputs:\n",
    "#     orig_image - numpy array containing the original, unprocessed image\n",
    "#     ie_net     - IENetwork object \n",
    "def prepImage(input_layer,original_image, ie_net):\n",
    "\n",
    "    ##! (2.1) Find n, c, h, w from net !##\n",
    "    n, c, h, w = ie_net.inputs[input_layer].shape\n",
    "\n",
    "    # Reshaping data    \n",
    "    input_image = cv2.resize(original_image, (w, h))\n",
    "    input_image = input_image.transpose((2, 0, 1))\n",
    "    input_image.reshape((n, c, h, w))\n",
    "\n",
    "    return input_image\n",
    "\n",
    "# Processes the result. Returns the number of detected vehices in the image.\n",
    "# inputs:\n",
    "#    detected_obects - numpy array containing the ooutput of the model\n",
    "#    prob_threashold - Required probability for \"detection\"\n",
    "# output:\n",
    "#    Number of vehices detected.\n",
    "def getCount(detected_objects, prob_threshold=0.5):\n",
    "    detected_count = 0\n",
    "    for obj in detected_objects[0][0]:\n",
    "        # Draw only objects when probability more than specified threshold\n",
    "        if obj[2] > prob_threshold:\n",
    "            detected_count+=1\n",
    "    return detected_count\n",
    "\n",
    "\n",
    "# Create ExecutableNetwork with the optimal number of requests for a given device.\n",
    "# inputs:\n",
    "#    ie_core - IECore object to use\n",
    "#    ie_net  - IENetwork object to use\n",
    "#    device  - String to use for device_name argument.\n",
    "# output:\n",
    "#    ExecutabeNetwork object\n",
    "def createExecNetwork(ie_net, device):\n",
    "    ##! (2.2) Create IECore !##\n",
    "    ie = IECore()\n",
    "    ##! (2.2) Create ExecutableNetwork object and find the optimal number of requests !##\n",
    "    exec_net = ie.load_network(network=ie_net, device_name=device)\n",
    "    nq = exec_net.get_metric(\"OPTIMAL_NUMBER_OF_INFER_REQUESTS\")\n",
    "    ##! (2.2) Recreate IECore and with num_requests set to optimal number of requests !##\n",
    "    exec_net = ie.load_network(network=ie_net, device_name=device, num_requests=nq)\n",
    "    ##! (2.2) return the ExecutableNetwork !##\n",
    "    return exec_net\n",
    "\n",
    "    \n",
    "# Set callback functions for the inference requests.\n",
    "# inputs:\n",
    "#    exec_net - ExecutableNetwork object to modify\n",
    "#    c_queue  - Python queue to put the slot ID in\n",
    "def setCallbackAndQueue(exec_net, c_queue):\n",
    "    for req_slot in range(len(exec_net.requests)):\n",
    "        ##! (2.3) Create a dictionary for py_data to pass in the queue and ID !###\n",
    "        data = {\"id\":req_slot, \"queue\":c_queue}\n",
    "        ##! (2.3) Set the completion callback with the arguments for each reqeust !##\n",
    "        exec_net.requests[req_slot].set_completion_callback(py_callback=callbackFunc, py_data=data)\n",
    "        # Initializing the queue. The second item of the tuple is the status of the previous \n",
    "        #  inference. But as there is no previous inference right now, setting the status to None.\n",
    "        c_queue.put((req_slot, None))\n",
    "    \n",
    "# Callback function called on completion of the inference.\n",
    "# inputs:\n",
    "#    status  - status code for the inference.\n",
    "#    py_data - dictionary arguments passed into the function\n",
    "def callbackFunc(status, py_data):\n",
    "    try:\n",
    "        ##! (2.4) Add a tuple (id, status) to queue here !##\n",
    "        queue = py_data['queue']\n",
    "        slot = py_data['id']       \n",
    "        queue.put((slot, status))\n",
    "    except:\n",
    "        print(\"There was an issue in callback\")\n"
   ]
  },
  {
   "cell_type": "markdown",
   "metadata": {},
   "source": [
    "### main.py\n",
    "\n",
    "Now write the main loop. \n",
    "Complete the `main.py` file by following the instructions.\n",
    "\n",
    "*Note* Many of the variables are already placed and set to None. This is because these variables are used in other parts of the code that have been provided to you. So do not change the name of the variable, but instead replace None with code specified by the instructions.\n",
    "\n",
    "\n",
    "\n",
    "</br><details>\n",
    "    <summary><b>(2.5)</b> Create an IECore object and use it to create IENetwork object with the provded model. Then get the input and output layer names. Use <code>ie_core</code> and <code>ie_net</code> as the variable names.</summary>\n",
    "\n",
    "The paths for the model is provided. Do not change the variable name, `ie_core` and `ie_net` for ths file. The name of the input layer and output layer are stored in `inputs` and `outputs` dictionaries.\n",
    "\n",
    "</details><br/>\n",
    "\n",
    "<details><summary><b>(2.6)</b> Run <code>getCount()</code> on the request result to get the number of vehicles. </summary>\n",
    "\n",
    "Use the request slot ID (`req_slot`) to get the result. Then get the number of vehicles from each inference request with `getCount()` function. remember that result of the inference itself can be accessed through the `outputs` attribute of the requests.\n",
    "\n",
    "</details><br/>\n",
    "\n",
    "<details>\n",
    "    <summary><b>(2.7)</b> Start asynchronous processing on the next image. </summary>\n",
    "\n",
    "Asynchronous (non-blocking) inference is started with `start_async()`.\n",
    "\n",
    "</details><br/>\n",
    "\n",
    "<details>\n",
    "\n",
    "<summary><b>(2.8)</b> Handle the remaining requests. </summary>\n",
    "\n",
    "The main while loop ends as soon as there are no more images to process, but there will be some inference that is still running. \n",
    "So we need to handle the remaining request.\n",
    "We first wait until all requests are completed, then we can handle the remaining results in the queue.\n",
    "\n",
    "This part is already implemented, so you just need to get the result.\n",
    "This step should be identical to 2.6\n",
    "\n",
    "</details><br/>"
   ]
  },
  {
   "cell_type": "code",
   "execution_count": 4,
   "metadata": {},
   "outputs": [
    {
     "name": "stdout",
     "output_type": "stream",
     "text": [
      "Overwriting main.py\n"
     ]
    }
   ],
   "source": [
    "%%writefile main.py\n",
    "import cv2\n",
    "import sys\n",
    "import queue\n",
    "from openvino.inference_engine import IECore, IENetwork\n",
    "from utils import *\n",
    "\n",
    "device = sys.argv[1]\n",
    "\n",
    "##! (2.5) Create IECore and IENetwork object from vehicle-detection-adas-0002 !##\n",
    "xml_path=\"/data/intel/vehicle-detection-adas-0002/FP16/vehicle-detection-adas-0002.xml\"\n",
    "bin_path=\"/data/intel/vehicle-detection-adas-0002/FP16/vehicle-detection-adas-0002.bin\"\n",
    "\n",
    "ie_net = IENetwork(model=xml_path, weights=bin_path)\n",
    "\n",
    "##! (2.5) Get the name of input and output layers. There is only one of each. !##\n",
    "input_layer = next(iter(ie_net.inputs))\n",
    "output_layer = next(iter(ie_net.outputs))\n",
    "\n",
    "# Create ExecutableNetwork object using createExecNetwork in utils.py \n",
    "exec_net = createExecNetwork(ie_net, device)\n",
    "print(\"ExecutableNetwork created with {} requests.\".format(len(exec_net.requests)))\n",
    "\n",
    "# Set the callback functions using setCallbackAndQueue() in utils.py \n",
    "c_queue = queue.Queue()\n",
    "setCallbackAndQueue(exec_net, c_queue)\n",
    "\n",
    "# Stats for processing\n",
    "max_vehicles = 0\n",
    "min_vehicles = 999      # this is safe as the max number of detectable objects is 200\n",
    "sum_vehicles = 0\n",
    "num_frames = 0\n",
    "# Loading the data from a video\n",
    "input_video = \"/data/reference-sample-data/object-detection-python/cars_1900.mp4\"\n",
    "cap = cv2.VideoCapture(input_video)\n",
    "while cap.isOpened():\n",
    "    # Read the next frame\n",
    "    ret, next_frame = cap.read()\n",
    "    # Condition for the end of video\n",
    "    if not ret:\n",
    "        break\n",
    "        \n",
    "    ##! preprocess next_frame using prepImage from utils.py !##\n",
    "    input_frame = prepImage(input_layer, next_frame, ie_net) \n",
    "    \n",
    "    # using get to wait for the nextslot ID. Here we are setting a timeout of 30 seconds in case \n",
    "    #  there are issues with the callback and queue never gets populated. With timeout, this function\n",
    "    #  will error out  with \"Empty\"\n",
    "\n",
    "    req_slot, status = c_queue.get(timeout=30)\n",
    "    \n",
    "    if status == 0:\n",
    "        ##! (2.6) Postprocess result from the request slot using getCount function from utils.py !##\n",
    "        num_vehicles = getCount(exec_net.requests[req_slot].outputs[output_layer])\n",
    "        \n",
    "        max_vehicles = max(num_vehicles, max_vehicles)\n",
    "        min_vehicles = min(num_vehicles, min_vehicles)\n",
    "        sum_vehicles += num_vehicles\n",
    "        num_frames += 1\n",
    "        \n",
    "    # Recall that None is what we set for the first time initializeation of queue, so we catch everything else.\n",
    "    elif not status is None:\n",
    "        print(\"There was error in processing an image\")\n",
    "\n",
    "    ##! (2.7) Start the next inference on the now open slot. !##\n",
    "    exec_net.start_async(request_id=req_slot, inputs={input_layer:input_frame})\n",
    "\n",
    "# Handle the remaining images.\n",
    "#  first we wait for all request slots to complete\n",
    "for req in exec_net.requests:\n",
    "    req.wait()\n",
    "\n",
    "# Handle remaining results \n",
    "while not c_queue.empty():\n",
    "    req_slot, status = c_queue.get(timeout=30)\n",
    "    \n",
    "    if status == 0:\n",
    "        ##! (2.8) Postprocess result from the request slot using getCount function from utils.py !##\n",
    "        num_vehicles = getCount(exec_net.requests[req_slot].outputs[output_layer])\n",
    "        max_vehicles = max(num_vehicles, max_vehicles)\n",
    "        min_vehicles = min(num_vehicles, min_vehicles)\n",
    "        sum_vehicles += num_vehicles\n",
    "        \n",
    "    # Recall that None is what we set for the first time initializeation of queue, so we catch everything else.\n",
    "    elif not status is None:\n",
    "        print(\"There was error in processing an image\")\n",
    "        \n",
    "# Finally, reporting results.\n",
    "print(\"Maximum number of cars detected: {}\".format(max_vehicles))\n",
    "print(\"Minimum number of cars detected: {}\".format(min_vehicles))\n",
    "print(\"average number of cars detected: {:.3g}\".format(sum_vehicles/num_frames))"
   ]
  },
  {
   "cell_type": "markdown",
   "metadata": {},
   "source": [
    "### job file\n",
    "\n",
    "Once again, the job file is provided for you. Note the if statement where we set up for FPGA if it is in the device list. Run the following cell to create the bash script `run.sh` to be used for benchmarking."
   ]
  },
  {
   "cell_type": "code",
   "execution_count": 5,
   "metadata": {},
   "outputs": [
    {
     "name": "stdout",
     "output_type": "stream",
     "text": [
      "Overwriting run.sh\n"
     ]
    }
   ],
   "source": [
    "%%writefile run.sh\n",
    "\n",
    "DEVICE=$1\n",
    "source /opt/intel/openvino/bin/setupvars.sh\n",
    "\n",
    "# Check if FPGA is used \n",
    "if grep -q FPGA <<<\"$DEVICE\"; then\n",
    "    # Environment variables and compilation for edge compute nodes with FPGAs\n",
    "    export AOCL_BOARD_PACKAGE_ROOT=/opt/intel/openvino/bitstreams/a10_vision_design_sg2_bitstreams/BSP/a10_1150_sg2\n",
    "    source /opt/altera/aocl-pro-rte/aclrte-linux64/init_opencl.sh\n",
    "    aocl program acl0 /opt/intel/openvino/bitstreams/a10_vision_design_sg2_bitstreams/2020-3_PL2_FP16_MobileNet_Clamp.aocx\n",
    "    export CL_CONTEXT_COMPILER_MODE_INTELFPGA=3\n",
    "fi\n",
    "    \n",
    "# Running the object detection code\n",
    "python3 main.py $DEVICE"
   ]
  },
  {
   "cell_type": "markdown",
   "metadata": {},
   "source": [
    "## Run the job\n",
    "\n",
    "Finally, let us try to run the workload. \n",
    "Once again we've provided the same `submitToDevCloud` function.\n",
    "\n",
    "**Note:** The toolkit is very verbose when using MYRIAD systems, so you may get a lot of additional output beyond what you are expecting. \n"
   ]
  },
  {
   "cell_type": "code",
   "execution_count": 6,
   "metadata": {},
   "outputs": [
    {
     "name": "stdout",
     "output_type": "stream",
     "text": [
      "Submitted. Job ID: FypmsVlL0BPihreCMFTEI97R9UjXN0Lh\n",
      "Waiting for job to complete. This may take a few minutes............\n",
      "\n",
      "[setupvars.sh] OpenVINO environment initialized\n",
      "main.py:13: DeprecationWarning: Reading network using constructor is deprecated. Please, use IECore.read_network() method instead\n",
      "  ie_net = IENetwork(model=xml_path, weights=bin_path)\n",
      "ExecutableNetwork created with 1 requests.\n",
      "Maximum number of cars detected: 8\n",
      "Minimum number of cars detected: 1\n",
      "average number of cars detected: 4.12\n",
      "\n"
     ]
    }
   ],
   "source": [
    "from devcloud_utils import submitToDevCloud\n",
    "submitToDevCloud(\"run.sh\", \"CPU\", script_args=[\"CPU\"], files=[\"main.py\",\"utils.py\"])"
   ]
  },
  {
   "cell_type": "code",
   "execution_count": 7,
   "metadata": {},
   "outputs": [
    {
     "name": "stdout",
     "output_type": "stream",
     "text": [
      "Submitted. Job ID: 3PVWp8SsGoHnSSVazKZUFIgBFT1sfcvR\n",
      "Waiting for job to complete. This may take a few minutes..................\n",
      "\n",
      "[setupvars.sh] OpenVINO environment initialized\n",
      "main.py:13: DeprecationWarning: Reading network using constructor is deprecated. Please, use IECore.read_network() method instead\n",
      "  ie_net = IENetwork(model=xml_path, weights=bin_path)\n",
      "ExecutableNetwork created with 2 requests.\n",
      "Maximum number of cars detected: 8\n",
      "Minimum number of cars detected: 1\n",
      "average number of cars detected: 4.13\n",
      "\n"
     ]
    }
   ],
   "source": [
    "from devcloud_utils import submitToDevCloud\n",
    "submitToDevCloud(\"run.sh\", \"GPU\",  script_args=[\"GPU\"], files=[\"main.py\",\"utils.py\"])"
   ]
  },
  {
   "cell_type": "code",
   "execution_count": 8,
   "metadata": {},
   "outputs": [
    {
     "name": "stdout",
     "output_type": "stream",
     "text": [
      "Submitted. Job ID: MuLrAge4S7rSCkq0yulcFvnbJLlJvwe2\n",
      "Waiting for job to complete. This may take a few minutes..........\n",
      "\n",
      "[setupvars.sh] OpenVINO environment initialized\n",
      "INTELFPGAOCLSDKROOT is not set\n",
      "Using script's current directory (/opt/altera/aocl-pro-rte/aclrte-linux64)\n",
      "\n",
      "aoc was not found, but aocl was found. Assuming only RTE is installed.\n",
      "\n",
      "AOCL_BOARD_PACKAGE_ROOT is set to /opt/intel/openvino/bitstreams/a10_vision_design_sg2_bitstreams/BSP/a10_1150_sg2. Using that.\n",
      "Adding /opt/altera/aocl-pro-rte/aclrte-linux64/bin to PATH\n",
      "Adding /opt/altera/aocl-pro-rte/aclrte-linux64/linux64/lib to LD_LIBRARY_PATH\n",
      "Adding /opt/altera/aocl-pro-rte/aclrte-linux64/host/linux64/lib to LD_LIBRARY_PATH\n",
      "Adding /opt/intel/openvino/bitstreams/a10_vision_design_sg2_bitstreams/BSP/a10_1150_sg2/linux64/lib to LD_LIBRARY_PATH\n",
      "aocl program: Running program from /opt/intel/openvino/bitstreams/a10_vision_design_sg2_bitstreams/BSP/a10_1150_sg2/linux64/libexec\n",
      "Programming device: a10gx_2ddr : Intel Vision Accelerator Design with Intel Arria 10 FPGA (acla10_1150_sg20)\n",
      "Program succeed. \n",
      "ExecutableNetwork created with 5 requests.\n",
      "Maximum number of cars detected: 8\n",
      "Minimum number of cars detected: 1\n",
      "average number of cars detected: 4.12\n",
      "main.py:13: DeprecationWarning: Reading network using constructor is deprecated. Please, use IECore.read_network() method instead\n",
      "  ie_net = IENetwork(model=xml_path, weights=bin_path)\n",
      "\n"
     ]
    }
   ],
   "source": [
    "from devcloud_utils import submitToDevCloud\n",
    "submitToDevCloud(\"run.sh\", \"FPGA\", script_args=[\"HETERO:FPGA,CPU\"], files=[\"main.py\",\"utils.py\"])"
   ]
  },
  {
   "cell_type": "code",
   "execution_count": 9,
   "metadata": {},
   "outputs": [
    {
     "name": "stdout",
     "output_type": "stream",
     "text": [
      "Submitted. Job ID: ZgQ3lAq7TTFjZk0354KJ6RyNKlcdTqwI\n",
      "Waiting for job to complete. This may take a few minutes.....................\n",
      "\n",
      "[setupvars.sh] OpenVINO environment initialized\n",
      "main.py:13: DeprecationWarning: Reading network using constructor is deprecated. Please, use IECore.read_network() method instead\n",
      "  ie_net = IENetwork(model=xml_path, weights=bin_path)\n",
      "ExecutableNetwork created with 4 requests.\n",
      "Maximum number of cars detected: 8\n",
      "Minimum number of cars detected: 1\n",
      "average number of cars detected: 4.11\n",
      "\n"
     ]
    }
   ],
   "source": [
    "from devcloud_utils import submitToDevCloud\n",
    "submitToDevCloud(\"run.sh\", \"VPU\", script_args=[\"MYRIAD\"], files=[\"main.py\",\"utils.py\"])"
   ]
  },
  {
   "cell_type": "markdown",
   "metadata": {},
   "source": [
    "Congratulations! You have just run multiple requests in parallel. \n",
    "From the output, you can see that multiple requests are being ran in parallel. \n",
    "\n",
    "**The final average vehicles detected to the third decimal will be asked in the quiz.**"
   ]
  }
 ],
 "metadata": {
  "kernelspec": {
   "display_name": "Python 3",
   "language": "python",
   "name": "python3"
  },
  "language_info": {
   "codemirror_mode": {
    "name": "ipython",
    "version": 3
   },
   "file_extension": ".py",
   "mimetype": "text/x-python",
   "name": "python",
   "nbconvert_exporter": "python",
   "pygments_lexer": "ipython3",
   "version": "3.7.3"
  },
  "toc": {
   "base_numbering": 1,
   "nav_menu": {},
   "number_sections": true,
   "sideBar": true,
   "skip_h1_title": false,
   "title_cell": "Table of Contents",
   "title_sidebar": "Contents",
   "toc_cell": false,
   "toc_position": {},
   "toc_section_display": true,
   "toc_window_display": false
  }
 },
 "nbformat": 4,
 "nbformat_minor": 2
}
