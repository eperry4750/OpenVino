{
 "cells": [
  {
   "cell_type": "markdown",
   "metadata": {},
   "source": [
    "# Exercise 2: Benchmarking\n",
    "\n",
    "In this exercise, you will implement benchmarking code for testing performance.\n",
    "\n",
    "The workload will be the same vehicle detection code as exercise 1. \n",
    "But in this exercise, you will be repeating the process and timing it.\n"
   ]
  },
  {
   "cell_type": "markdown",
   "metadata": {},
   "source": [
    "## Step 1: Inference Benchmark Scripts\n",
    "\n",
    "In this step, you will be writing the benchmarking code for testing various hardware available to you on the DevCloud.\n",
    "The hardware that you will test includes those that perform best when there are more than one request.\n",
    "So as discussed in the video, we need to take advantage of the asynchronous inference mode to spawn the optimial number of inference requests.\n",
    "\n",
    "For this exercise, you will be jumping straight to creating scripts for running the workload in the queue.\n",
    "The scripts will be in two parts: `utils.py` where the helper functions like the function for peprocessing image are located, and `main.py` where the benchmarking occurs.\n",
    "\n",
    "### utils.py\n",
    "\n",
    "`utils.py` contains multiple helper functions for things like preprocessing. \n",
    "Follow the instructions to complete `utils.py`.\n",
    "\n",
    "</br><details>\n",
    "    <summary><b>(2.1)</b> Complete the <code>prepImage()</code> function by finding the NCHW values from the network.</summary>\n",
    "    \n",
    "Complete the `prepImage()` function by getting the values for `n`, `c`, `h` and `w` from the function input `net`.\n",
    "The code here should be the exact same as in exercise 1.\n",
    "\n",
    "</details><br/>\n",
    "\n",
    "<details>\n",
    "    <summary><b>(2.2)</b> Complete the <code>createExecNetwork()</code> function which takes IECore, IENetwork and device string and returns an ExecutableNetwork with the optimal number of requests.</summary>\n",
    "\n",
    "To get the otimal number of requets, you first need a default ExecutableNetwork object. \n",
    "The IENetwork and device string is provided as input argument.\n",
    "Use these along with IECore to get an ExecutableNetwork.\n",
    "\n",
    "Then you can get the optimal number of requests from a metric of the ExecutableNetwork. \n",
    "See the slides for video 2 of course 2 for more details.\n",
    "Use this value to recrate an ExecutablkeNetwork object with the optimal number of requests.\n",
    "Finally, return this executable network.\n",
    "\n",
    "</details>\n"
   ]
  },
  {
   "cell_type": "code",
   "execution_count": 1,
   "metadata": {},
   "outputs": [
    {
     "name": "stdout",
     "output_type": "stream",
     "text": [
      "Overwriting utils.py\n"
     ]
    }
   ],
   "source": [
    "%%writefile utils.py\n",
    "import cv2\n",
    "from openvino.inference_engine import IECore, IENetwork\n",
    "\n",
    "def prepImage(input_layer,original_image, ie_net):\n",
    "\n",
    "    ##! (2.1) Find n, c, h, w from net !##\n",
    "    n, c, h, w = ie_net.inputs[input_layer].shape\n",
    "\n",
    "    # Reshaping data\n",
    "    input_image = cv2.resize(original_image, (w, h))\n",
    "    input_image = input_image.transpose((2, 0, 1))\n",
    "    input_image.reshape((n, c, h, w))\n",
    "\n",
    "    return input_image\n",
    "\n",
    "def getCount(detected_objects, prob_threshold=0.5):\n",
    "    detected_count = 0\n",
    "    for obj in detected_objects[0][0]:\n",
    "        # Draw only objects when probability more than specified threshold\n",
    "        if obj[2] > prob_threshold:\n",
    "            detected_count+=1\n",
    "    return detected_count\n",
    "\n",
    "def createExecNetwork(ie_net, device):\n",
    "    ##! (2.2) Create IECore !##\n",
    "    ie = IECore()\n",
    "    ##! (2.2) Create ExecutableNetwork object and find the optimal number of requests !##\n",
    "    exec_net = ie.load_network(network=ie_net, device_name=device)\n",
    "    nq = exec_net.get_metric(\"OPTIMAL_NUMBER_OF_INFER_REQUESTS\")\n",
    "    ##! (2.2) Recreate IECore and with num_requests set to optimal number of requests !##\n",
    "    exec_net = ie.load_network(network=ie_net, device_name=device, num_requests=nq)\n",
    "    ##! (2.2) return the ExecutableNetwork !##\n",
    "    return exec_net"
   ]
  },
  {
   "cell_type": "markdown",
   "metadata": {},
   "source": [
    "### main.py \n",
    "Next is the main.py. For this implementation, follow the approach where preprocessing and postprocessing are also repeated as many times as there are requests. Whilst it is not strictly necessary to repeat the preprocesing and postprocessing steps, it will give you timing that you can directly compare.\n",
    "\n",
    "Follow the instructions to complete `main.py`.\n",
    "\n",
    "</br><details>\n",
    "    <summary><b>(2.3)</b> Create an IECore object and use it to cerate IENetwork object with the provded model. Then get the input and output layer names. Use <code>ie_core</code> and <code>ie_net</code> as the variable names.</summary>\n",
    "\n",
    "The paths for the model is provided. Do not change the variable name, `ie_net` for ths file. The name of the input layer and output layer are stored in `inputs` and `outputs` dictionaries.\n",
    "\n",
    "</details><br/>\n",
    "\n",
    "<details>\n",
    "    <summary><b>(2.4)</b> Start asynchronous processing on all request slots for images from <code>prepped_images</code>. </summary>\n",
    "\n",
    "Asynchronous (non-blocking) inference is started with `start_async()`. A for loop over all the request slots are provided for you, so you just need to make sure that you use all the available request slots.\n",
    "\n",
    "</details><br/>\n",
    "\n",
    "<details>\n",
    "    <summary><b>(2.5)</b> Wait for request slots to complete. </summary>\n",
    "\n",
    "Use the `wait()` function with the requests to wait for the completion. You need to do this for all the slots.\n",
    "\n",
    "</details><br/>\n",
    "\n",
    "<details>\n",
    "    <summary><b>(2.6)</b> Populate <code>result_list</code> with the number of vehicles detected from each slot. </summary>\n",
    "\n",
    "Get the number of vehicles from each inference request with `getCount()` function, and save the result in `result_list`. Result of the inference itself can be accessed through the `outputs` attribute of the requests. See slides from course 1 video 7 for more. This array is used for a sanity check to make sure all inference requests return the same number of detected vehicles.\n",
    "\n",
    "</details><br/>"
   ]
  },
  {
   "cell_type": "code",
   "execution_count": 2,
   "metadata": {},
   "outputs": [
    {
     "name": "stdout",
     "output_type": "stream",
     "text": [
      "Overwriting main.py\n"
     ]
    }
   ],
   "source": [
    "%%writefile main.py\n",
    "import time\n",
    "from openvino.inference_engine import IENetwork, IECore\n",
    "from utils import *\n",
    "import cv2\n",
    "import sys\n",
    "import os\n",
    "import statistics\n",
    "\n",
    "# Getting the device as commandline argument\n",
    "device = sys.argv[1]\n",
    "\n",
    "##! (2.3) create IECore and IENetwork object for vehicle-detection-adas-0002 !##\n",
    "xml_path=\"/data/intel/vehicle-detection-adas-0002/FP16/vehicle-detection-adas-0002.xml\"\n",
    "bin_path=\"/data/intel/vehicle-detection-adas-0002/FP16/vehicle-detection-adas-0002.bin\"\n",
    "# ie_core = None\n",
    "ie_net = IENetwork(model=xml_path, weights=bin_path)\n",
    "\n",
    "\n",
    "##! (2.3) get the input and output layer names !##\n",
    "##! (2.3) get the input and output layer names !##\n",
    "input_layer = next(iter(ie_net.inputs))\n",
    "output_layer = next(iter(ie_net.outputs))\n",
    "\n",
    "# Creating ExecutableNetwork object with the device variable for targtted device \n",
    "exec_net = createExecNetwork(ie_net, device)\n",
    "num_requests = len(exec_net.requests)\n",
    "\n",
    "image_path = \"cars_1900_first_frame.jpg\"\n",
    "original_image = cv2.imread(image_path)\n",
    "\n",
    "iter_ = 500\n",
    "prep_time = []\n",
    "infer_time = []\n",
    "postp_time = []\n",
    "for i in range(iter_):\n",
    "    # Preprocessing image. \n",
    "    prep_start = time.time()\n",
    "    prepped_images = []\n",
    "    for slot_id in range(num_requests):\n",
    "        prepped_images.append(prepImage(input_layer,original_image, ie_net))\n",
    "    prep_time.append((time.time()-prep_start)/num_requests*1000)\n",
    "    \n",
    "    infer_start = time.time()\n",
    "    for req_slot in range(num_requests):\n",
    "        ##! (2.4) Run asynchronous inference. !##\n",
    "        exec_net.start_async(request_id=req_slot, inputs={input_layer: prepped_images[req_slot]})\n",
    "    for req_slot in range(num_requests):\n",
    "        ##! (2.5) Wait for asynchronous inference to complete. !##\n",
    "        exec_net.requests[req_slot].wait()\n",
    "    infer_time.append((time.time()-infer_start)/num_requests*1000)\n",
    "    \n",
    "    postp_start = time.time()\n",
    "    result_list = [0]*num_requests  # Python way of creating a 0 array of length 'num_requests'\n",
    "    for req_slot in range(num_requests):\n",
    "        ##! (2.6) Run getCount to get the vehicle count and store it in result_list !##\n",
    "        result_list[req_slot] = getCount(exec_net.requests[req_slot].outputs[output_layer])\n",
    "    postp_time.append((time.time()-postp_start)/num_requests*1000)\n",
    "\n",
    "    # Sanity check to make sure all results are identical. Abort if it does not match\n",
    "    assert all([x == result_list[0] for x in result_list]), \"Results for the inference requests did not match\"\n",
    "    \n",
    "# writing the results to a file\n",
    "if not os.path.exists(\"results\"):\n",
    "    os.makedirs(\"results\")\n",
    "prep_avg    = statistics.mean(prep_time)\n",
    "prep_stdev  = statistics.stdev(prep_time)\n",
    "infer_avg   = statistics.mean(infer_time)\n",
    "infer_stdev = statistics.stdev(infer_time)\n",
    "postp_avg   = statistics.mean(postp_time)\n",
    "postp_stdev = statistics.stdev(postp_time)\n",
    "print(\"Inference running on: {}\".format(device))\n",
    "print(\"Number of requests: {}\".format(num_requests))\n",
    "print(\"Inference time per image (ms): {:.3g} +- {:.3g}\".format(infer_avg, infer_stdev))\n",
    "print(\"Preprocessing time per image (ms): {:.3g} +- {:.3g}\".format(prep_avg, prep_stdev))\n",
    "print(\"Postprocessing time per image (ms): {:.3g} +- {:.3g}\".format(postp_avg, postp_stdev))"
   ]
  },
  {
   "cell_type": "markdown",
   "metadata": {},
   "source": [
    "## Step 3: Running Inference Benchmarks\n",
    "\n",
    "With the benchmark scripts in hand you are ready to begin running benchmarks on the DevCloud.\n",
    "The commands for running the job will be provided to you, just like in exercise 1.\n",
    "\n",
    "\n",
    "With that said, there are some differences to note for the job submission in this exercise.\n",
    "In exercise 1, the command to run the job was pushed to the `qsub` through the `echo` command. \n",
    "For this exercise, you will be passing the commands to run for job through a bash script.\n",
    "The reason for this shift is that you will be using an FPGA machine for the benchmarks, and they require an additional step beyond executing `main.py`.\n",
    "As discussed in the videos, FPGAs require \"programs\" in the form of bit-streams to be loaded.\n",
    "For the `vehicle-detection-adas-0002` model, OpenVINO has a pre-built bit-stream for it.\n",
    "So the commands have to be added to the bash script, and ran if FPGA is used.\n",
    "\n",
    "### job file\n",
    "\n",
    "Once again, the job file is provided for you. Note the if statement where we set up for FPGA if it is in the device list. Run the following cell to create the bash script `run.sh` to be used for benchmarking."
   ]
  },
  {
   "cell_type": "code",
   "execution_count": 3,
   "metadata": {},
   "outputs": [
    {
     "name": "stdout",
     "output_type": "stream",
     "text": [
      "Overwriting run.sh\n"
     ]
    }
   ],
   "source": [
    "%%writefile run.sh\n",
    "\n",
    "DEVICE=$1\n",
    "source /opt/intel/openvino/bin/setupvars.sh\n",
    "\n",
    "# Check if FPGA is used \n",
    "if grep -q FPGA <<<\"$DEVICE\"; then\n",
    "    # Environment variables and compilation for edge compute nodes with FPGAs\n",
    "    export AOCL_BOARD_PACKAGE_ROOT=/opt/intel/openvino/bitstreams/a10_vision_design_sg2_bitstreams/BSP/a10_1150_sg2\n",
    "    source /opt/altera/aocl-pro-rte/aclrte-linux64/init_opencl.sh\n",
    "    aocl program acl0 /opt/intel/openvino/bitstreams/a10_vision_design_sg2_bitstreams/2020-3_PL2_FP16_MobileNet_Clamp.aocx\n",
    "    export CL_CONTEXT_COMPILER_MODE_INTELFPGA=3\n",
    "fi\n",
    "    \n",
    "# Running the object detection code\n",
    "python3 main.py $DEVICE"
   ]
  },
  {
   "cell_type": "markdown",
   "metadata": {},
   "source": [
    "This bash script takes one argument, which specifies the device to use. \n",
    "The bit-stream is only loaded if \"FPGA\" appears in the device argument.\n",
    "\n",
    "### Job queue submission\n",
    "\n",
    "As in exercise 1, the command for submitting the job has been provided for you. \n",
    "Run the following cell to submit the job for processing with CPU. "
   ]
  },
  {
   "cell_type": "code",
   "execution_count": 4,
   "metadata": {},
   "outputs": [
    {
     "name": "stdout",
     "output_type": "stream",
     "text": [
      "Submitted. Job ID: L6aUuf7ZpCDlNN1iq3zmDFWW1iSto1Pc\n",
      "Waiting for job to complete. This may take a few minutes.....\n",
      "\n",
      "[setupvars.sh] OpenVINO environment initialized\n",
      "Inference running on: CPU\n",
      "Number of requests: 1\n",
      "Inference time per image (ms): 13.3 +- 0.349\n",
      "Preprocessing time per image (ms): 0.525 +- 1.32\n",
      "Postprocessing time per image (ms): 0.413 +- 0.0234\n",
      "main.py:16: DeprecationWarning: Reading network using constructor is deprecated. Please, use IECore.read_network() method instead\n",
      "  ie_net = IENetwork(model=xml_path, weights=bin_path)\n",
      "\n"
     ]
    }
   ],
   "source": [
    "from devcloud_utils import submitToDevCloud\n",
    "submitToDevCloud(\"run.sh\", \"CPU\", script_args=[\"CPU\"], files=[\"cars_1900_first_frame.jpg\",\"main.py\",\"utils.py\"])"
   ]
  },
  {
   "cell_type": "markdown",
   "metadata": {},
   "source": [
    "If the run on CPU was successful, it is time to try out the other devices.\n",
    "Run the following cell to run the benchmark on GPU, FPGA and VPU.\n",
    "\n",
    "**Note:** FPGA is set to `HETERO` mode with CPU, as there are some layers that are not supported by FPGA. For the VPU, we are using Intel Neural Compute Stick 2 (NCS2). "
   ]
  },
  {
   "cell_type": "code",
   "execution_count": 5,
   "metadata": {},
   "outputs": [
    {
     "name": "stdout",
     "output_type": "stream",
     "text": [
      "Submitted. Job ID: odN8HWAUtUBYiRnmp94S5IiuHoW0TAZt\n",
      "Waiting for job to complete. This may take a few minutes..............\n",
      "\n",
      "[setupvars.sh] OpenVINO environment initialized\n",
      "Inference running on: GPU\n",
      "Number of requests: 2\n",
      "Inference time per image (ms): 13.7 +- 0.464\n",
      "Preprocessing time per image (ms): 0.436 +- 0.721\n",
      "Postprocessing time per image (ms): 0.35 +- 0.0148\n",
      "main.py:16: DeprecationWarning: Reading network using constructor is deprecated. Please, use IECore.read_network() method instead\n",
      "  ie_net = IENetwork(model=xml_path, weights=bin_path)\n",
      "\n"
     ]
    }
   ],
   "source": [
    "from devcloud_utils import submitToDevCloud\n",
    "submitToDevCloud(\"run.sh\", \"GPU\",  script_args=[\"GPU\"], files=[\"cars_1900_first_frame.jpg\",\"main.py\",\"utils.py\"])"
   ]
  },
  {
   "cell_type": "markdown",
   "metadata": {},
   "source": [
    "Congratulations! You now have the performance benchmark on 4 types of device. \n",
    "Of course, these numbers are not the full story; you need consider other factors like power consumption and cost if these are important for your particular deployment.\n",
    "But these benchmarks will be a key component in that decision making process.\n",
    "**Take note of which device had the best (lowest) inference time per image value. This will be asked in the quiz**"
   ]
  },
  {
   "cell_type": "code",
   "execution_count": 6,
   "metadata": {},
   "outputs": [
    {
     "name": "stdout",
     "output_type": "stream",
     "text": [
      "Submitted. Job ID: lHlq2MDgx65QoRr0Zv09XhfLbUah8f5j\n",
      "Waiting for job to complete. This may take a few minutes..........\n",
      "\n",
      "[setupvars.sh] OpenVINO environment initialized\n",
      "INTELFPGAOCLSDKROOT is not set\n",
      "Using script's current directory (/opt/altera/aocl-pro-rte/aclrte-linux64)\n",
      "\n",
      "aoc was not found, but aocl was found. Assuming only RTE is installed.\n",
      "\n",
      "AOCL_BOARD_PACKAGE_ROOT is set to /opt/intel/openvino/bitstreams/a10_vision_design_sg2_bitstreams/BSP/a10_1150_sg2. Using that.\n",
      "Adding /opt/altera/aocl-pro-rte/aclrte-linux64/bin to PATH\n",
      "Adding /opt/altera/aocl-pro-rte/aclrte-linux64/linux64/lib to LD_LIBRARY_PATH\n",
      "Adding /opt/altera/aocl-pro-rte/aclrte-linux64/host/linux64/lib to LD_LIBRARY_PATH\n",
      "Adding /opt/intel/openvino/bitstreams/a10_vision_design_sg2_bitstreams/BSP/a10_1150_sg2/linux64/lib to LD_LIBRARY_PATH\n",
      "aocl program: Running program from /opt/intel/openvino/bitstreams/a10_vision_design_sg2_bitstreams/BSP/a10_1150_sg2/linux64/libexec\n",
      "Programming device: a10gx_2ddr : Intel Vision Accelerator Design with Intel Arria 10 FPGA (acla10_1150_sg20)\n",
      "Program succeed. \n",
      "Inference running on: HETERO:FPGA,CPU\n",
      "Number of requests: 5\n",
      "Inference time per image (ms): 11.5 +- 0.101\n",
      "Preprocessing time per image (ms): 1.03 +- 0.297\n",
      "Postprocessing time per image (ms): 1.1 +- 0.0466\n",
      "main.py:16: DeprecationWarning: Reading network using constructor is deprecated. Please, use IECore.read_network() method instead\n",
      "  ie_net = IENetwork(model=xml_path, weights=bin_path)\n",
      "\n"
     ]
    }
   ],
   "source": [
    "from devcloud_utils import submitToDevCloud\n",
    "submitToDevCloud(\"run.sh\", \"FPGA\", script_args=[\"HETERO:FPGA,CPU\"], files=[\"cars_1900_first_frame.jpg\",\"main.py\",\"utils.py\"])"
   ]
  },
  {
   "cell_type": "code",
   "execution_count": 7,
   "metadata": {},
   "outputs": [
    {
     "name": "stdout",
     "output_type": "stream",
     "text": [
      "Submitted. Job ID: UzkW4MtKnUKtiGEIcWQL7XQrNAbF0mR0\n",
      "Waiting for job to complete. This may take a few minutes.....\n",
      "\n",
      "[setupvars.sh] OpenVINO environment initialized\n",
      "main.py:16: DeprecationWarning: Reading network using constructor is deprecated. Please, use IECore.read_network() method instead\n",
      "  ie_net = IENetwork(model=xml_path, weights=bin_path)\n",
      "Traceback (most recent call last):\n",
      "  File \"main.py\", line 25, in <module>\n",
      "    exec_net = createExecNetwork(ie_net, device)\n",
      "  File \"/submission/utils.py\", line 28, in createExecNetwork\n",
      "    exec_net = ie.load_network(network=ie_net, device_name=device)\n",
      "  File \"ie_api.pyx\", line 178, in openvino.inference_engine.ie_api.IECore.load_network\n",
      "  File \"ie_api.pyx\", line 187, in openvino.inference_engine.ie_api.IECore.load_network\n",
      "RuntimeError: Can not init Myriad device: NC_ERROR\n",
      "\n"
     ]
    }
   ],
   "source": [
    "from devcloud_utils import submitToDevCloud\n",
    "submitToDevCloud(\"run.sh\", \"VPU\",  script_args=[\"MYRIAD\"], files=[\"cars_1900_first_frame.jpg\",\"main.py\",\"utils.py\"])"
   ]
  },
  {
   "cell_type": "code",
   "execution_count": null,
   "metadata": {},
   "outputs": [],
   "source": []
  }
 ],
 "metadata": {
  "kernelspec": {
   "display_name": "Python 3",
   "language": "python",
   "name": "python3"
  },
  "language_info": {
   "codemirror_mode": {
    "name": "ipython",
    "version": 3
   },
   "file_extension": ".py",
   "mimetype": "text/x-python",
   "name": "python",
   "nbconvert_exporter": "python",
   "pygments_lexer": "ipython3",
   "version": "3.7.3"
  },
  "toc": {
   "base_numbering": 1,
   "nav_menu": {},
   "number_sections": true,
   "sideBar": true,
   "skip_h1_title": false,
   "title_cell": "Table of Contents",
   "title_sidebar": "Contents",
   "toc_cell": false,
   "toc_position": {},
   "toc_section_display": true,
   "toc_window_display": false
  },
  "widgets": {
   "application/vnd.jupyter.widget-state+json": {
    "state": {},
    "version_major": 2,
    "version_minor": 0
   }
  }
 },
 "nbformat": 4,
 "nbformat_minor": 2
}
